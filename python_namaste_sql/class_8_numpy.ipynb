{
 "cells": [
  {
   "cell_type": "markdown",
   "id": "27ce37a2-9cf9-49d8-9280-017f5c30751c",
   "metadata": {},
   "source": [
    "## libraries"
   ]
  },
  {
   "cell_type": "code",
   "execution_count": 1,
   "id": "e0800abb-f9b5-4b6e-a1d5-71a5f9fdc754",
   "metadata": {},
   "outputs": [],
   "source": [
    "import numpy as np"
   ]
  },
  {
   "cell_type": "code",
   "execution_count": 2,
   "id": "6d1bd001-ea0a-4bcc-a41c-a853450183c3",
   "metadata": {},
   "outputs": [],
   "source": [
    "import pandas as pd"
   ]
  },
  {
   "cell_type": "markdown",
   "id": "1cba220e-026f-4ba9-b186-88518d91af12",
   "metadata": {},
   "source": [
    "#### arrary contains same data type data"
   ]
  },
  {
   "cell_type": "code",
   "execution_count": 3,
   "id": "ff5acb04-bdc7-44a1-8a9a-6defce966943",
   "metadata": {},
   "outputs": [
    {
     "data": {
      "text/plain": [
       "array([ 1, -2,  3])"
      ]
     },
     "execution_count": 3,
     "metadata": {},
     "output_type": "execute_result"
    }
   ],
   "source": [
    "a = [1,-2,3]\n",
    "a_array = np.array(a)\n",
    "a_array"
   ]
  },
  {
   "cell_type": "code",
   "execution_count": 5,
   "id": "212682cb-2f8a-472d-b919-eb8ee30e33c9",
   "metadata": {},
   "outputs": [
    {
     "data": {
      "text/plain": [
       "dtype('int64')"
      ]
     },
     "execution_count": 5,
     "metadata": {},
     "output_type": "execute_result"
    }
   ],
   "source": [
    "a_array.dtype"
   ]
  },
  {
   "cell_type": "code",
   "execution_count": 4,
   "id": "8e9d7c04-2130-49c7-a507-52ab47385cd8",
   "metadata": {},
   "outputs": [
    {
     "name": "stdout",
     "output_type": "stream",
     "text": [
      "[[1 2 3]\n",
      " [2 3 4]]\n"
     ]
    },
    {
     "data": {
      "text/plain": [
       "(2, 3)"
      ]
     },
     "execution_count": 4,
     "metadata": {},
     "output_type": "execute_result"
    }
   ],
   "source": [
    "b = [[1,2,3],[2,3,4]]\n",
    "b_array = np.array(b)\n",
    "print(b_array)\n",
    "b_array.shape"
   ]
  },
  {
   "cell_type": "code",
   "execution_count": 6,
   "id": "cb909122",
   "metadata": {},
   "outputs": [
    {
     "name": "stdout",
     "output_type": "stream",
     "text": [
      "   user_id user_name date_of_joining\n",
      "0        1     User1      2024-10-26\n",
      "1        2     User2      2022-07-29\n",
      "2        3     User3      2024-04-07\n",
      "3        4     User4      2024-06-07\n",
      "4        5     User5      2023-03-31\n"
     ]
    }
   ],
   "source": [
    "import random\n",
    "from datetime import datetime, timedelta\n",
    "\n",
    "# Generate random data\n",
    "user_ids = [i for i in range(1, 6)]  # 5 user IDs\n",
    "user_names = ['User' + str(i) for i in range(1, 6)]  # User names\n",
    "date_of_joining = [(datetime.now() - timedelta(days=random.randint(0, 1000))).strftime('%Y-%m-%d') for _ in range(5)]  # Random dates\n",
    "\n",
    "# Create the DataFrame\n",
    "user_df = pd.DataFrame({\n",
    "    'user_id': user_ids,\n",
    "    'user_name': user_names,\n",
    "    'date_of_joining': date_of_joining\n",
    "})\n",
    "\n",
    "print(user_df)"
   ]
  },
  {
   "cell_type": "code",
   "execution_count": 7,
   "id": "ca844651",
   "metadata": {},
   "outputs": [
    {
     "data": {
      "text/plain": [
       "(5, 3)"
      ]
     },
     "execution_count": 7,
     "metadata": {},
     "output_type": "execute_result"
    }
   ],
   "source": [
    "user_df.shape"
   ]
  },
  {
   "cell_type": "code",
   "execution_count": null,
   "id": "1cf4af74",
   "metadata": {},
   "outputs": [],
   "source": []
  }
 ],
 "metadata": {
  "kernelspec": {
   "display_name": "Python 3",
   "language": "python",
   "name": "python3"
  },
  "language_info": {
   "codemirror_mode": {
    "name": "ipython",
    "version": 3
   },
   "file_extension": ".py",
   "mimetype": "text/x-python",
   "name": "python",
   "nbconvert_exporter": "python",
   "pygments_lexer": "ipython3",
   "version": "3.12.7"
  }
 },
 "nbformat": 4,
 "nbformat_minor": 5
}
